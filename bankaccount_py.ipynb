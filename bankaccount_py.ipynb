{
  "nbformat": 4,
  "nbformat_minor": 0,
  "metadata": {
    "colab": {
      "provenance": []
    },
    "kernelspec": {
      "name": "python3",
      "display_name": "Python 3"
    },
    "language_info": {
      "name": "python"
    }
  },
  "cells": [
    {
      "cell_type": "code",
      "source": [
        "#creating a class for bank account\n",
        "class bankaccount:\n",
        "  def __init__(self,accountnumber,balance=0):\n",
        "    self.accountnumber = accountnumber\n",
        "    self.balance = balance\n",
        "  def deposit(self,amount):\n",
        "    self.balance+=amount\n",
        "    print(f\"your balance is {self.balance}\")\n",
        "  def withdraw(self, amount):\n",
        "    if amount<=self.balance:\n",
        "      print(f\"{self.balance}\")\n",
        "    else:\n",
        "      print(\"insufficient balance\")\n",
        "obj1 = bankaccount(1234)\n",
        "obj1.deposit(1000)\n",
        "obj1.withdraw(500)\n",
        "\n",
        "\n"
      ],
      "metadata": {
        "colab": {
          "base_uri": "https://localhost:8080/"
        },
        "id": "TePiLLCoWfZX",
        "outputId": "bbce9baf-005c-405c-e8df-30d95f17a2ed"
      },
      "execution_count": 2,
      "outputs": [
        {
          "output_type": "stream",
          "name": "stdout",
          "text": [
            "your balance is 1000\n",
            "1000\n"
          ]
        }
      ]
    }
  ]
}