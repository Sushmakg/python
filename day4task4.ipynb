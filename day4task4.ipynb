{
  "nbformat": 4,
  "nbformat_minor": 0,
  "metadata": {
    "colab": {
      "provenance": []
    },
    "kernelspec": {
      "name": "python3",
      "display_name": "Python 3"
    },
    "language_info": {
      "name": "python"
    }
  },
  "cells": [
    {
      "cell_type": "code",
      "source": [
        "#list creation\n",
        "numbers = [1,2,3,4,5]\n",
        "print(numbers)"
      ],
      "metadata": {
        "colab": {
          "base_uri": "https://localhost:8080/"
        },
        "id": "igqSeDPsqbac",
        "outputId": "a6166741-f7fb-46b4-e666-7da1270dac41"
      },
      "execution_count": 56,
      "outputs": [
        {
          "output_type": "stream",
          "name": "stdout",
          "text": [
            "[1, 2, 3, 4, 5]\n"
          ]
        }
      ]
    },
    {
      "cell_type": "code",
      "source": [
        "#list indexing\n",
        "numbers = [1,2,3,4,5]\n",
        "print(numbers[0])\n",
        "print(numbers[-1])\n",
        "print(numbers[2])"
      ],
      "metadata": {
        "colab": {
          "base_uri": "https://localhost:8080/"
        },
        "id": "wR50x_x5qlu3",
        "outputId": "75aa72a7-4e89-44b7-93a8-776197f0dd88"
      },
      "execution_count": 60,
      "outputs": [
        {
          "output_type": "stream",
          "name": "stdout",
          "text": [
            "1\n",
            "5\n",
            "3\n"
          ]
        }
      ]
    },
    {
      "cell_type": "code",
      "source": [
        "#list append and insert\n",
        "numbers = [1,2,3,4,5]\n",
        "numbers.append(6)\n",
        "print(numbers)\n",
        "numbers.insert(0,18)\n",
        "print(numbers)"
      ],
      "metadata": {
        "colab": {
          "base_uri": "https://localhost:8080/"
        },
        "id": "vj6IOEEjrt3K",
        "outputId": "ed315cea-bcca-4538-841a-c312314b1cc8"
      },
      "execution_count": 62,
      "outputs": [
        {
          "output_type": "stream",
          "name": "stdout",
          "text": [
            "[1, 2, 3, 4, 5, 6]\n",
            "[18, 1, 2, 3, 4, 5, 6]\n"
          ]
        }
      ]
    },
    {
      "cell_type": "code",
      "source": [
        "#list removal\n",
        "numbers = [1,2,3,4,5]\n",
        "numbers.remove(5)\n",
        "print(numbers)\n",
        "\n",
        "#list removal with using pop\n",
        "numbers = [1,2,3,4,5]\n",
        "numbers.pop(3)\n",
        "print(numbers)"
      ],
      "metadata": {
        "colab": {
          "base_uri": "https://localhost:8080/"
        },
        "id": "sGtCJvbir6l4",
        "outputId": "ca445294-00cb-4dda-db48-8d95b9dfb2b4"
      },
      "execution_count": 92,
      "outputs": [
        {
          "output_type": "stream",
          "name": "stdout",
          "text": [
            "[1, 2, 3, 4]\n",
            "[1, 2, 3, 5]\n"
          ]
        }
      ]
    },
    {
      "cell_type": "code",
      "source": [
        "#list sorting\n",
        "numbers = [18,20,45,7,16]\n",
        "numbers.sort()\n",
        "print(numbers)"
      ],
      "metadata": {
        "colab": {
          "base_uri": "https://localhost:8080/"
        },
        "id": "6qgr6xUrsGzB",
        "outputId": "e0b755f9-d4c1-4f02-d6f7-6f7f956dc57a"
      },
      "execution_count": 64,
      "outputs": [
        {
          "output_type": "stream",
          "name": "stdout",
          "text": [
            "[7, 16, 18, 20, 45]\n"
          ]
        }
      ]
    },
    {
      "cell_type": "code",
      "source": [
        "#list reversal\n",
        "books = [\"the predator\",\"the emperor\", \"the reaper\",\"the annihilator\"]\n",
        "books.reverse()\n",
        "print(books)"
      ],
      "metadata": {
        "colab": {
          "base_uri": "https://localhost:8080/"
        },
        "id": "2Hne7rJUsY6r",
        "outputId": "d31b5cd5-518a-47b5-f19d-c1860bb26d05"
      },
      "execution_count": 66,
      "outputs": [
        {
          "output_type": "stream",
          "name": "stdout",
          "text": [
            "['the annihilator', 'the reaper', 'the emperor', 'the predator']\n"
          ]
        }
      ]
    },
    {
      "cell_type": "code",
      "source": [
        "#sum of list elements\n",
        "numbers = [20,30,40,50]\n",
        "print(sum(numbers))"
      ],
      "metadata": {
        "colab": {
          "base_uri": "https://localhost:8080/"
        },
        "id": "kuGkP4UYs5V8",
        "outputId": "b29c78fd-890e-4687-cb45-d26a78185ba1"
      },
      "execution_count": 67,
      "outputs": [
        {
          "output_type": "stream",
          "name": "stdout",
          "text": [
            "140\n"
          ]
        }
      ]
    },
    {
      "cell_type": "code",
      "source": [
        "#maximum and minimum of a list\n",
        "numbers = [100,85,84,95]\n",
        "min_element = min(numbers)\n",
        "max_element = max(numbers)\n",
        "print(min_element)\n",
        "print(max_element)"
      ],
      "metadata": {
        "colab": {
          "base_uri": "https://localhost:8080/"
        },
        "id": "9klmVvi0tI6f",
        "outputId": "7832c767-0290-4ee8-d9b7-28533e5a0346"
      },
      "execution_count": 70,
      "outputs": [
        {
          "output_type": "stream",
          "name": "stdout",
          "text": [
            "84\n",
            "100\n"
          ]
        }
      ]
    },
    {
      "cell_type": "code",
      "source": [
        "#count occurrences\n",
        "names = [\"tristan\",\"dante\", \"jeremy\",\"tristan\"]\n",
        "names.count(\"tristan\")\n"
      ],
      "metadata": {
        "colab": {
          "base_uri": "https://localhost:8080/"
        },
        "id": "YT0yZfGNvKGz",
        "outputId": "560d8acb-69dc-4598-8060-adf458212458"
      },
      "execution_count": 80,
      "outputs": [
        {
          "output_type": "execute_result",
          "data": {
            "text/plain": [
              "2"
            ]
          },
          "metadata": {},
          "execution_count": 80
        }
      ]
    },
    {
      "cell_type": "code",
      "source": [
        "#merging lists\n",
        "list1 = [1,2,3,4,4]\n",
        "list2 = [5,6,7,8,7,7,8,9]\n",
        "merged_list = list1+list2\n",
        "unique_list = list(set(merged_list))\n",
        "print(unique_list)"
      ],
      "metadata": {
        "colab": {
          "base_uri": "https://localhost:8080/"
        },
        "id": "rBmUEV78vwMN",
        "outputId": "99882486-1a54-482c-b3fd-c5e2bb42b344"
      },
      "execution_count": 84,
      "outputs": [
        {
          "output_type": "stream",
          "name": "stdout",
          "text": [
            "[1, 2, 3, 4, 5, 6, 7, 8, 9]\n"
          ]
        }
      ]
    },
    {
      "cell_type": "code",
      "source": [
        "#tuple creation and access\n",
        "names = (\"tristan\",\"dante\",\"jeremy\")\n",
        "print(names)\n",
        "names[2]"
      ],
      "metadata": {
        "colab": {
          "base_uri": "https://localhost:8080/",
          "height": 53
        },
        "id": "9it-WLiqxUX2",
        "outputId": "7c5a6342-f6ce-4ad5-e1a9-90f4d3e1be6a"
      },
      "execution_count": 88,
      "outputs": [
        {
          "output_type": "stream",
          "name": "stdout",
          "text": [
            "('tristan', 'dante', 'jeremy')\n"
          ]
        },
        {
          "output_type": "execute_result",
          "data": {
            "text/plain": [
              "'jeremy'"
            ],
            "application/vnd.google.colaboratory.intrinsic+json": {
              "type": "string"
            }
          },
          "metadata": {},
          "execution_count": 88
        }
      ]
    },
    {
      "cell_type": "code",
      "source": [
        "#tuple unpacking\n",
        "names = (\"sagar\",\"sush\",\"swap\",\"swaruu\")\n",
        "bro,me,akka,anna = names\n",
        "print(bro)\n",
        "print(me)\n",
        "print(akka)\n",
        "print(anna)\n",
        "\n",
        "\n",
        "books = (\"the predator\",\"the emperor\", \"the reaper\",\"the annihilator\")\n",
        "book1,book2,*rest = books\n",
        "print(book1)\n",
        "print(book2)\n",
        "print(rest)\n",
        "\n",
        "\n",
        "numbers = (1,2,3,4,5)\n",
        "a,*middle,b,c = numbers\n",
        "print(a)\n",
        "print(middle)\n",
        "print(b)\n",
        "print(c)\n",
        "\n",
        "size = (24,(25,26),27,28)\n",
        "small,(small,medium),large,extra = size\n",
        "print(small)\n",
        "print((small,medium))\n",
        "print(large)\n",
        "print(extra)"
      ],
      "metadata": {
        "colab": {
          "base_uri": "https://localhost:8080/"
        },
        "id": "0iJo8W_Rx_YF",
        "outputId": "696624f9-3608-4a49-baf5-aa697ef6dc79"
      },
      "execution_count": 99,
      "outputs": [
        {
          "output_type": "stream",
          "name": "stdout",
          "text": [
            "sagar\n",
            "sush\n",
            "swap\n",
            "swaruu\n",
            "the predator\n",
            "the emperor\n",
            "['the reaper', 'the annihilator']\n",
            "1\n",
            "[2, 3]\n",
            "4\n",
            "5\n",
            "25\n",
            "(25, 26)\n",
            "27\n",
            "28\n"
          ]
        }
      ]
    },
    {
      "cell_type": "code",
      "source": [
        "#tuple to list , list to tuple\n",
        "tournaments = [\"cwc\",\"CT\",\"T20I\",\"IPL\",\"WTC\"]\n",
        "tournaments = tuple(tournaments)\n",
        "print(tournaments)\n",
        "\n",
        "tropes = (\"enemies to lovers\",\"mafia\",\"marriage of convenience\")\n",
        "tropes = list(tropes)\n",
        "print(tropes)"
      ],
      "metadata": {
        "colab": {
          "base_uri": "https://localhost:8080/"
        },
        "id": "5r1cFTkJ1yOo",
        "outputId": "6789a943-2e8b-48a3-af86-c34529531dfc"
      },
      "execution_count": 102,
      "outputs": [
        {
          "output_type": "stream",
          "name": "stdout",
          "text": [
            "('cwc', 'CT', 'T20I', 'IPL', 'WTC')\n",
            "['enemies to lovers', 'mafia', 'marriage of convenience']\n"
          ]
        }
      ]
    },
    {
      "cell_type": "code",
      "source": [
        "#tuple concatenaton\n",
        "awards = (\"pott\",\"orange cap\",\"mom\",\"mvp\",\"purple cap\",\"mos\")\n",
        "players = (\"virat\",\"kl rahul\" ,\"hardik pandya\",\"shreyas iyer\")\n",
        "awardedplayers = awards+players\n",
        "print(awardedplayers)\n"
      ],
      "metadata": {
        "colab": {
          "base_uri": "https://localhost:8080/"
        },
        "id": "jrXSWfbE2zeF",
        "outputId": "a51e9e1b-8800-4295-bec7-b9d047b1e721"
      },
      "execution_count": 103,
      "outputs": [
        {
          "output_type": "stream",
          "name": "stdout",
          "text": [
            "('pott', 'orange cap', 'mom', 'mvp', 'purple cap', 'mos', 'virat', 'kl rahul', 'hardik pandya', 'shreyas iyer')\n"
          ]
        }
      ]
    },
    {
      "cell_type": "code",
      "source": [
        "#dictionary creation\n",
        "favpersons = {\n",
        "    \"celebrity\" : \"virat\",\n",
        "    \"family\"    : \"amma\",\n",
        "    \"friend\"    : \"jahnavi\"\n",
        "}\n",
        "print(favpersons)"
      ],
      "metadata": {
        "colab": {
          "base_uri": "https://localhost:8080/"
        },
        "id": "WHwHuhnV5bXV",
        "outputId": "586016f4-32bd-475f-e71a-a69368cb3180"
      },
      "execution_count": 104,
      "outputs": [
        {
          "output_type": "stream",
          "name": "stdout",
          "text": [
            "{'celebrity': 'virat', 'family': 'amma', 'friend': 'jahnavi'}\n"
          ]
        }
      ]
    },
    {
      "cell_type": "code",
      "source": [
        "#accessing dictionary values\n",
        "favpersons = {\n",
        "    \"celebrity\" : \"virat\",\n",
        "    \"family\"    : \"amma\",\n",
        "    \"friend\"    : \"jahnavi\"\n",
        "}\n",
        "print(favpersons[\"celebrity\"])\n",
        "\n"
      ],
      "metadata": {
        "colab": {
          "base_uri": "https://localhost:8080/"
        },
        "id": "fhFkXNEC7L-b",
        "outputId": "dfce3a42-0b54-4d12-b07c-39a1a219cef1"
      },
      "execution_count": 105,
      "outputs": [
        {
          "output_type": "stream",
          "name": "stdout",
          "text": [
            "virat\n"
          ]
        }
      ]
    },
    {
      "cell_type": "code",
      "source": [
        "#adding to a dictionary\n",
        "favpersons = {\n",
        "    \"celebrity\" : \"virat\",\n",
        "    \"family\"    : \"amma\",\n",
        "    \"friend\"    : \"jahnavi\"\n",
        "}\n",
        "favpersons[\"benchmate\"] = \"mona\"\n",
        "print(favpersons)"
      ],
      "metadata": {
        "colab": {
          "base_uri": "https://localhost:8080/"
        },
        "id": "g_Rq8SAR9JYY",
        "outputId": "1d28c5d7-3c6c-4866-b855-75062760ffd0"
      },
      "execution_count": 116,
      "outputs": [
        {
          "output_type": "stream",
          "name": "stdout",
          "text": [
            "{'celebrity': 'virat', 'family': 'amma', 'friend': 'jahnavi', 'benchmate': 'mona'}\n"
          ]
        }
      ]
    },
    {
      "cell_type": "code",
      "source": [
        "#updating a dictionary\n",
        "virat = {\n",
        "    \"age\" : \"35\",\n",
        "    \"country\" : \"india\"\n",
        "}\n",
        "virat[\"age\"] = \"36\"\n",
        "print(virat)\n"
      ],
      "metadata": {
        "colab": {
          "base_uri": "https://localhost:8080/"
        },
        "id": "6xr21YrHBaE2",
        "outputId": "5c79b9dd-8a23-4c27-d560-23601910e280"
      },
      "execution_count": 118,
      "outputs": [
        {
          "output_type": "stream",
          "name": "stdout",
          "text": [
            "{'age': '36', 'country': 'india'}\n"
          ]
        }
      ]
    },
    {
      "cell_type": "code",
      "source": [
        "#removing elements from a dictionary\n",
        "cwc = {\n",
        "    \"won\" : 1983,\n",
        "    \"lost\" : 2023,\n",
        "    \"recent win\" : 2011\n",
        "}\n",
        "del cwc[\"lost\"]\n",
        "print(cwc)"
      ],
      "metadata": {
        "colab": {
          "base_uri": "https://localhost:8080/"
        },
        "id": "c37gStmPBxUw",
        "outputId": "af45f4de-06ee-4ce5-c9ad-59388c095c33"
      },
      "execution_count": 119,
      "outputs": [
        {
          "output_type": "stream",
          "name": "stdout",
          "text": [
            "{'won': 1983, 'recent win': 2011}\n"
          ]
        }
      ]
    },
    {
      "cell_type": "code",
      "source": [
        "#iterating through a dictionary\n",
        "cwc = {\n",
        "    \"won\" : 1983,\n",
        "    \"lost\" : 2023,\n",
        "    \"recent win\" : 2011\n",
        "}\n",
        "for key,value in cwc.items():\n",
        "    print(key,value)"
      ],
      "metadata": {
        "colab": {
          "base_uri": "https://localhost:8080/"
        },
        "id": "SYRscxrMCZ1h",
        "outputId": "8fa71e7b-3e67-42c2-f0d4-06fbbcb585f5"
      },
      "execution_count": 120,
      "outputs": [
        {
          "output_type": "stream",
          "name": "stdout",
          "text": [
            "won 1983\n",
            "lost 2023\n",
            "recent win 2011\n"
          ]
        }
      ]
    }
  ]
}