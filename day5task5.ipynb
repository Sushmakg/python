{
  "nbformat": 4,
  "nbformat_minor": 0,
  "metadata": {
    "colab": {
      "provenance": []
    },
    "kernelspec": {
      "name": "python3",
      "display_name": "Python 3"
    },
    "language_info": {
      "name": "python"
    }
  },
  "cells": [
    {
      "cell_type": "code",
      "source": [
        "#create a simple class\n",
        "class car:\n",
        "  def __init__(self,brand , model):\n",
        "    self.brand = brand\n",
        "    self.model = model\n",
        "audi = car(\"audi\",\"q7\")\n",
        "print(audi.brand)\n",
        "print(audi.model)\n"
      ],
      "metadata": {
        "colab": {
          "base_uri": "https://localhost:8080/"
        },
        "id": "IpVMOeg28Y4U",
        "outputId": "268ae0bc-41c7-4575-f18f-6da28f2b81fa"
      },
      "execution_count": null,
      "outputs": [
        {
          "output_type": "stream",
          "name": "stdout",
          "text": [
            "audi\n",
            "q7\n"
          ]
        }
      ]
    },
    {
      "cell_type": "code",
      "source": [
        "#without using init\n",
        "class car:\n",
        "  def show(self):\n",
        "    print(f\"this is {self.brand},{self.model}\")\n",
        "bmw = car()\n",
        "bmw.brand =\"bmw\"\n",
        "bmw.model = \"x5\"\n",
        "bmw.show()"
      ],
      "metadata": {
        "colab": {
          "base_uri": "https://localhost:8080/"
        },
        "id": "9V3syLfY_gdd",
        "outputId": "27b6e0a0-7892-47dd-e915-b11a2b3bfe34"
      },
      "execution_count": null,
      "outputs": [
        {
          "output_type": "stream",
          "name": "stdout",
          "text": [
            "this is bmw,x5\n"
          ]
        }
      ]
    },
    {
      "cell_type": "code",
      "source": [
        "class Car:\n",
        "    def __init__(self, brand, model):\n",
        "        self.__brand = brand  # Private attribute\n",
        "        self.__model = model  # Private attribute\n",
        "\n",
        "    # Getter method for 'brand'\n",
        "    @property\n",
        "    def brand(self):\n",
        "        return self.__brand\n",
        "\n",
        "    # Setter method for 'brand'\n",
        "    @brand.setter\n",
        "    def brand(self, brand):\n",
        "        self.__brand = brand\n",
        "\n",
        "    # Getter method for 'model'\n",
        "    @property\n",
        "    def model(self):\n",
        "        return self.__model\n",
        "\n",
        "    # Setter method for 'model'\n",
        "    @model.setter\n",
        "    def model(self, model):\n",
        "        self.__model = model\n",
        "\n",
        "# Create an instance of Car\n",
        "audi = Car(\"Audi\", \"Q7\")\n",
        "\n",
        "# Accessing the attributes via getter methods\n",
        "print(audi.brand)  # Output: Audi\n",
        "print(audi.model)  # Output: Q7\n",
        "\n",
        "# Modifying the attributes via setter methods\n",
        "audi.brand = \"BMW\"\n",
        "audi.model = \"X5\"\n",
        "\n",
        "# Accessing the modified attributes via getter methods\n",
        "print(audi.brand)  # Output: BMW\n",
        "print(audi.model)  # Output: X5"
      ],
      "metadata": {
        "id": "y4ci8q9KEAyG",
        "outputId": "2a646352-8d8c-4602-f207-815bf7c0cbff",
        "colab": {
          "base_uri": "https://localhost:8080/"
        }
      },
      "execution_count": null,
      "outputs": [
        {
          "output_type": "stream",
          "name": "stdout",
          "text": [
            "Audi\n",
            "Q7\n",
            "BMW\n",
            "X5\n"
          ]
        }
      ]
    },
    {
      "cell_type": "code",
      "source": [
        "#creating multiple objects\n",
        "class Car:\n",
        "    def __init__(self, make, model, year, color):\n",
        "        self.make = make\n",
        "        self.model = model\n",
        "        self.year = year\n",
        "        self.color = color\n",
        "\n",
        "    def display_details(self):\n",
        "        print(f\"Make: {self.make}, Model: {self.model}, Year: {self.year}, Color: {self.color}\")\n",
        "\n",
        "car1 = Car(\"Toyota\", \"Camry\", 2020, \"Blue\")\n",
        "car2 = Car(\"Honda\", \"Civic\", 2018, \"Red\")\n",
        "car3 = Car(\"Ford\", \"Mustang\", 2022, \"Black\")\n",
        "\n",
        "car1.display_details()\n",
        "car2.display_details()\n",
        "car3.display_details()\n"
      ],
      "metadata": {
        "colab": {
          "base_uri": "https://localhost:8080/"
        },
        "id": "Ac_mgQUsSFS3",
        "outputId": "7cd88997-ea09-4c55-f5e4-822f23a504e9"
      },
      "execution_count": null,
      "outputs": [
        {
          "output_type": "stream",
          "name": "stdout",
          "text": [
            "Make: Toyota, Model: Camry, Year: 2020, Color: Blue\n",
            "Make: Honda, Model: Civic, Year: 2018, Color: Red\n",
            "Make: Ford, Model: Mustang, Year: 2022, Color: Black\n"
          ]
        }
      ]
    },
    {
      "cell_type": "code",
      "source": [
        "class BankAccount:\n",
        "    def __init__(self, balance=0):\n",
        "        self.__balance = balance\n",
        "\n",
        "    def deposit(self, amount):\n",
        "        if amount > 0:\n",
        "            self.__balance += amount\n",
        "        else:\n",
        "            print(\"Deposit amount must be positive.\")\n",
        "\n",
        "    def withdraw(self, amount):\n",
        "        if 0 < amount <= self.__balance:\n",
        "            self.__balance -= amount\n",
        "        else:\n",
        "            print(\"Insufficient funds or invalid amount.\")\n",
        "\n",
        "    def get_balance(self):\n",
        "        return self.__balance\n",
        "\n",
        "    def set_balance(self, balance):\n",
        "        if balance >= 0:\n",
        "            self.__balance = balance\n",
        "        else:\n",
        "            print(\"Balance cannot be negative.\")\n",
        "\n",
        "account = BankAccount(100)\n",
        "account.deposit(50)\n",
        "account.withdraw(30)\n",
        "print(account.get_balance())\n",
        "account.set_balance(200)\n",
        "print(account.get_balance())\n"
      ],
      "metadata": {
        "colab": {
          "base_uri": "https://localhost:8080/"
        },
        "id": "fU9TIyKLSUFk",
        "outputId": "e6c25fb1-e9f9-4a1d-f461-5febb6d59596"
      },
      "execution_count": null,
      "outputs": [
        {
          "output_type": "stream",
          "name": "stdout",
          "text": [
            "120\n",
            "200\n"
          ]
        }
      ]
    },
    {
      "cell_type": "code",
      "source": [
        "#using getters and setters\n",
        "class Employee:\n",
        "    def __init__(self, name, age):\n",
        "        self.__name = name\n",
        "        self.__age = age\n",
        "\n",
        "    def get_name(self):\n",
        "        return self.__name\n",
        "\n",
        "    def set_name(self, name):\n",
        "        self.__name = name\n",
        "\n",
        "    def get_age(self):\n",
        "        return self.__age\n",
        "\n",
        "    def set_age(self, age):\n",
        "        if age > 0:\n",
        "            self.__age = age\n",
        "        else:\n",
        "            print(\"Age must be positive.\")\n",
        "\n",
        "\n",
        "employee = Employee(\"Alice\", 30)\n",
        "print(employee.get_name())\n",
        "employee.set_name(\"Bob\")\n",
        "print(employee.get_name())\n"
      ],
      "metadata": {
        "colab": {
          "base_uri": "https://localhost:8080/"
        },
        "id": "yCgZox4HS_Du",
        "outputId": "29781c45-73ac-4d9b-b7f5-26c4849135b4"
      },
      "execution_count": null,
      "outputs": [
        {
          "output_type": "stream",
          "name": "stdout",
          "text": [
            "Alice\n",
            "Bob\n"
          ]
        }
      ]
    },
    {
      "cell_type": "code",
      "source": [
        "#class inheritance\n",
        "class Animal:\n",
        "    def __init__(self, name):\n",
        "        self.name = name\n",
        "\n",
        "    def speak(self):\n",
        "        print(f\"{self.name} makes a sound\")\n",
        "\n",
        "class Dog(Animal):\n",
        "    def __init__(self, name, breed):\n",
        "        super().__init__(name)\n",
        "        self.breed = breed\n",
        "\n",
        "    def speak(self):\n",
        "        print(f\"{self.name} barks\")\n",
        "\n",
        "# Testing the Animal and Dog classes\n",
        "dog = Dog(\"Buddy\", \"Golden Retriever\")\n",
        "dog.speak()\n"
      ],
      "metadata": {
        "colab": {
          "base_uri": "https://localhost:8080/"
        },
        "id": "b_NT8nbTTVSJ",
        "outputId": "74153e98-39ca-4861-cac4-c561132eb2d9"
      },
      "execution_count": null,
      "outputs": [
        {
          "output_type": "stream",
          "name": "stdout",
          "text": [
            "Buddy barks\n"
          ]
        }
      ]
    },
    {
      "cell_type": "code",
      "source": [
        "#method overriding\n",
        "class Animal:\n",
        "    def speak(self):\n",
        "        print(\"Animal makes a sound\")\n",
        "\n",
        "class Dog(Animal):\n",
        "    def speak(self):\n",
        "        print(\"Dog barks\")\n",
        "\n",
        "class Cat(Animal):\n",
        "    def speak(self):\n",
        "        print(\"Cat meows\")\n",
        "\n",
        "# Testing method overriding\n",
        "dog = Dog()\n",
        "dog.speak()\n",
        "\n",
        "cat = Cat()\n",
        "cat.speak()\n"
      ],
      "metadata": {
        "colab": {
          "base_uri": "https://localhost:8080/"
        },
        "id": "LMPUxZwyTnO-",
        "outputId": "e8ae6841-7ddb-43e5-baec-0ce956f5f033"
      },
      "execution_count": null,
      "outputs": [
        {
          "output_type": "stream",
          "name": "stdout",
          "text": [
            "Dog barks\n",
            "Cat meows\n"
          ]
        }
      ]
    },
    {
      "cell_type": "code",
      "source": [
        "#multiple inheritance\n",
        "class Animal:\n",
        "    def speak(self):\n",
        "        print(\"Animal makes a sound\")\n",
        "\n",
        "class Mammal:\n",
        "    def has_hair(self):\n",
        "        print(\"Mammals have hair\")\n",
        "\n",
        "class Dog(Animal, Mammal):\n",
        "    def speak(self):\n",
        "        print(\"Dog barks\")\n",
        "\n",
        "# Testing multiple inheritance\n",
        "dog = Dog()\n",
        "dog.speak()\n",
        "dog.has_hair()\n"
      ],
      "metadata": {
        "colab": {
          "base_uri": "https://localhost:8080/"
        },
        "id": "tycjZlSyTud_",
        "outputId": "bd5f0d27-b162-4d22-d96c-152b4f915344"
      },
      "execution_count": null,
      "outputs": [
        {
          "output_type": "stream",
          "name": "stdout",
          "text": [
            "Dog barks\n",
            "Mammals have hair\n"
          ]
        }
      ]
    },
    {
      "cell_type": "code",
      "source": [
        "#multiple inheritance\n",
        "class Animal:\n",
        "    def sound(self):\n",
        "        print(\"Animal makes a sound\")\n",
        "\n",
        "class Mammal(Animal):\n",
        "    def sound(self):\n",
        "        print(\"Mammal makes a sound\")\n",
        "\n",
        "class Dog(Mammal):\n",
        "    def sound(self):\n",
        "        print(\"Dog barks\")\n",
        "\n",
        "dog = Dog()\n",
        "dog.sound()\n"
      ],
      "metadata": {
        "colab": {
          "base_uri": "https://localhost:8080/"
        },
        "id": "sVVWv0E6Uk6k",
        "outputId": "8ca6669c-b5e7-4560-dcc7-c76668b2beac"
      },
      "execution_count": null,
      "outputs": [
        {
          "output_type": "stream",
          "name": "stdout",
          "text": [
            "Dog barks\n"
          ]
        }
      ]
    },
    {
      "cell_type": "code",
      "source": [
        "#multilevel inheritance\n",
        "class Animal:\n",
        "    def sound(self):\n",
        "        print(\"Animal makes a sound\")\n",
        "\n",
        "class Dog(Animal):\n",
        "    def sound(self):\n",
        "        print(\"Dog barks\")\n",
        "\n",
        "class Puppy(Dog):\n",
        "    def sound(self):\n",
        "        print(\"Puppy barks softly\")\n",
        "\n",
        "puppy = Puppy()\n",
        "puppy.sound()"
      ],
      "metadata": {
        "id": "j4G_xw7zUrmt",
        "colab": {
          "base_uri": "https://localhost:8080/"
        },
        "outputId": "d42d2c35-4800-41be-cd62-c875e3b47745"
      },
      "execution_count": null,
      "outputs": [
        {
          "output_type": "stream",
          "name": "stdout",
          "text": [
            "Puppy barks softly\n"
          ]
        }
      ]
    },
    {
      "cell_type": "code",
      "source": [
        "#polymorphism with function\n",
        "class Cat:\n",
        "    def sound(self):\n",
        "        print(\"Cat meows\")\n",
        "\n",
        "class Dog:\n",
        "    def sound(self):\n",
        "        print(\"Dog barks\")\n",
        "\n",
        "def animal_sound(animal):\n",
        "    animal.sound()\n",
        "\n",
        "cat = Cat()\n",
        "dog = Dog()\n",
        "animal_sound(cat)\n",
        "animal_sound(dog)"
      ],
      "metadata": {
        "colab": {
          "base_uri": "https://localhost:8080/"
        },
        "id": "yN245nWcoCNt",
        "outputId": "2350a834-a497-4bda-f5d8-4e527de7c148"
      },
      "execution_count": null,
      "outputs": [
        {
          "output_type": "stream",
          "name": "stdout",
          "text": [
            "Cat meows\n",
            "Dog barks\n"
          ]
        }
      ]
    },
    {
      "cell_type": "code",
      "source": [
        "#polymorphism with inheritance\n",
        "class Animal:\n",
        "    def sound(self):\n",
        "        print(\"Animal makes a sound\")\n",
        "\n",
        "class Dog(Animal):\n",
        "    def sound(self):\n",
        "        print(\"Dog barks\")\n",
        "\n",
        "dog = Dog()\n",
        "dog.sound()"
      ],
      "metadata": {
        "colab": {
          "base_uri": "https://localhost:8080/"
        },
        "id": "fxwZ9DaqoJem",
        "outputId": "2eae60c7-886a-4638-ee0f-538273ecbd24"
      },
      "execution_count": null,
      "outputs": [
        {
          "output_type": "stream",
          "name": "stdout",
          "text": [
            "Dog barks\n"
          ]
        }
      ]
    },
    {
      "cell_type": "code",
      "source": [
        "#using super() method\n",
        "class Animal:\n",
        "    def sound(self):\n",
        "        print(\"Animal makes a sound\")\n",
        "\n",
        "class Dog(Animal):\n",
        "    def sound(self):\n",
        "        super().sound()\n",
        "        print(\"Dog barks\")\n",
        "\n",
        "dog = Dog()\n",
        "dog.sound()"
      ],
      "metadata": {
        "colab": {
          "base_uri": "https://localhost:8080/"
        },
        "id": "1RrFKKhMoQ1q",
        "outputId": "f4a4618e-fced-4e0f-d8d1-41c245a89efd"
      },
      "execution_count": null,
      "outputs": [
        {
          "output_type": "stream",
          "name": "stdout",
          "text": [
            "Animal makes a sound\n",
            "Dog barks\n"
          ]
        }
      ]
    },
    {
      "cell_type": "code",
      "source": [
        "#using class and static method\n",
        "class MyClass:\n",
        "    @classmethod\n",
        "    def class_method(cls):\n",
        "        print(\"This is a class method\")\n",
        "\n",
        "    @staticmethod\n",
        "    def static_method():\n",
        "        print(\"This is a static method\")\n",
        "\n",
        "MyClass.class_method()\n",
        "MyClass.static_method()"
      ],
      "metadata": {
        "colab": {
          "base_uri": "https://localhost:8080/"
        },
        "id": "fg8odxV-oiVI",
        "outputId": "1e6ed279-969d-4408-f78f-94413ac96264"
      },
      "execution_count": null,
      "outputs": [
        {
          "output_type": "stream",
          "name": "stdout",
          "text": [
            "This is a class method\n",
            "This is a static method\n"
          ]
        }
      ]
    },
    {
      "cell_type": "code",
      "source": [
        "#operator overloading\n",
        "class CustomClass:\n",
        "    def __init__(self, value):\n",
        "        self.value = value\n",
        "\n",
        "    def __add__(self, other):\n",
        "        return CustomClass(self.value + other.value)\n",
        "\n",
        "obj1 = CustomClass(10)\n",
        "obj2 = CustomClass(20)\n",
        "obj3 = obj1 + obj2\n",
        "print(obj3.value)"
      ],
      "metadata": {
        "colab": {
          "base_uri": "https://localhost:8080/"
        },
        "id": "4qekuE_GpDJE",
        "outputId": "13bc9c4d-22ab-4bdb-ecb3-ddccb663e017"
      },
      "execution_count": null,
      "outputs": [
        {
          "output_type": "stream",
          "name": "stdout",
          "text": [
            "30\n"
          ]
        }
      ]
    },
    {
      "cell_type": "code",
      "source": [
        "#dunder methods\n",
        "class CustomClass:\n",
        "    def __init__(self, value):\n",
        "        self.value = value\n",
        "\n",
        "    def __str__(self):\n",
        "        return f\"CustomClass with value: {self.value}\"\n",
        "\n",
        "    def __repr__(self):\n",
        "        return f\"CustomClass({self.value})\"\n",
        "\n",
        "obj = CustomClass(10)\n",
        "print(str(obj))\n",
        "print(repr(obj))"
      ],
      "metadata": {
        "colab": {
          "base_uri": "https://localhost:8080/"
        },
        "id": "t39xuUZ6pJdE",
        "outputId": "29a3dbbc-54f4-46cf-fdbc-1b88cc810df9"
      },
      "execution_count": null,
      "outputs": [
        {
          "output_type": "stream",
          "name": "stdout",
          "text": [
            "CustomClass with value: 10\n",
            "CustomClass(10)\n"
          ]
        }
      ]
    },
    {
      "cell_type": "code",
      "source": [
        "#counting instance of a class\n",
        "class MyClass:\n",
        "    count = 0\n",
        "\n",
        "    def __init__(self):\n",
        "        MyClass.count += 1\n",
        "\n",
        "obj1 = MyClass()\n",
        "obj2 = MyClass()\n",
        "obj3 = MyClass()\n",
        "print(MyClass.count)"
      ],
      "metadata": {
        "colab": {
          "base_uri": "https://localhost:8080/"
        },
        "id": "pqms-OaapOmm",
        "outputId": "edc0c0fe-cb5a-4c61-c381-fa096f17c51a"
      },
      "execution_count": null,
      "outputs": [
        {
          "output_type": "stream",
          "name": "stdout",
          "text": [
            "3\n"
          ]
        }
      ]
    },
    {
      "cell_type": "code",
      "source": [
        "#composition in classes\n",
        "class Engine:\n",
        "    def start(self):\n",
        "        print(\"Engine started\")\n",
        "\n",
        "class Car:\n",
        "    def __init__(self, engine):\n",
        "        self.engine = engine\n",
        "\n",
        "    def start(self):\n",
        "        self.engine.start()\n",
        "        print(\"Car is running\")\n",
        "\n",
        "engine = Engine()\n",
        "car = Car(engine)\n",
        "car.start()"
      ],
      "metadata": {
        "colab": {
          "base_uri": "https://localhost:8080/"
        },
        "id": "0jlQt3FgpY26",
        "outputId": "96cb4925-adef-4e37-ff52-16cd2ef941d8"
      },
      "execution_count": null,
      "outputs": [
        {
          "output_type": "stream",
          "name": "stdout",
          "text": [
            "Engine started\n",
            "Car is running\n"
          ]
        }
      ]
    },
    {
      "cell_type": "code",
      "source": [
        "#abstract base class\n",
        "from abc import ABC, abstractmethod\n",
        "\n",
        "class Animal(ABC):\n",
        "    @abstractmethod\n",
        "    def sound(self):\n",
        "        pass\n",
        "\n",
        "class Dog(Animal):\n",
        "    def sound(self):\n",
        "        print(\"Bark\")\n",
        "\n",
        "dog = Dog()\n",
        "dog.sound()"
      ],
      "metadata": {
        "colab": {
          "base_uri": "https://localhost:8080/"
        },
        "id": "aOkaQsbypfbZ",
        "outputId": "dab87c21-5701-44ec-b8f1-f2af897334ae"
      },
      "execution_count": null,
      "outputs": [
        {
          "output_type": "stream",
          "name": "stdout",
          "text": [
            "Bark\n"
          ]
        }
      ]
    },
    {
      "cell_type": "code",
      "source": [
        "#interference implementation\n",
        "from abc import ABC, abstractmethod\n",
        "\n",
        "class Animal(ABC):\n",
        "    @abstractmethod\n",
        "    def sound(self):\n",
        "        pass\n",
        "\n",
        "class Dog(Animal):\n",
        "    def sound(self):\n",
        "        print(\"Bark\")\n",
        "\n",
        "class Cat(Animal):\n",
        "    def sound(self):\n",
        "        print(\"Meow\")\n",
        "\n",
        "dog = Dog()\n",
        "cat = Cat()\n",
        "dog.sound()\n",
        "cat.sound()"
      ],
      "metadata": {
        "colab": {
          "base_uri": "https://localhost:8080/"
        },
        "id": "vpXkXA8xplJD",
        "outputId": "eb967338-4ada-4a5c-cc20-644e10fbbbb8"
      },
      "execution_count": null,
      "outputs": [
        {
          "output_type": "stream",
          "name": "stdout",
          "text": [
            "Bark\n",
            "Meow\n"
          ]
        }
      ]
    },
    {
      "cell_type": "code",
      "source": [
        "#file handling with oop\n",
        "class FileHandler:\n",
        "    def write_to_file(self, filename, content):\n",
        "        with open(filename, 'w') as f:\n",
        "            f.write(content)\n",
        "\n",
        "    def read_from_file(self, filename):\n",
        "        with open(filename, 'r') as f:\n",
        "            return f.read()\n",
        "\n",
        "file_handler = FileHandler()\n",
        "file_handler.write_to_file('test.txt', 'Hello, world!')\n",
        "print(file_handler.read_from_file('test.txt'))"
      ],
      "metadata": {
        "colab": {
          "base_uri": "https://localhost:8080/"
        },
        "id": "-2vsofT3pvoG",
        "outputId": "c771035f-29bf-48a4-b8a2-ca675701ad66"
      },
      "execution_count": null,
      "outputs": [
        {
          "output_type": "stream",
          "name": "stdout",
          "text": [
            "Hello, world!\n"
          ]
        }
      ]
    },
    {
      "cell_type": "code",
      "source": [
        "#exception handling in classes\n",
        "class Calculator:\n",
        "    def divide(self, a, b):\n",
        "        try:\n",
        "            return a / b\n",
        "        except ZeroDivisionError:\n",
        "            print(\"Error: Division by zero!\")\n",
        "\n",
        "calc = Calculator()\n",
        "calc.divide(10, 0)"
      ],
      "metadata": {
        "colab": {
          "base_uri": "https://localhost:8080/"
        },
        "id": "5DgeSH7Lp5xs",
        "outputId": "7313e32f-d02f-4a71-9998-d556731b3c80"
      },
      "execution_count": null,
      "outputs": [
        {
          "output_type": "stream",
          "name": "stdout",
          "text": [
            "Error: Division by zero!\n"
          ]
        }
      ]
    },
    {
      "cell_type": "code",
      "source": [
        "#serialization\n",
        "import pickle\n",
        "\n",
        "class MyClass:\n",
        "    def __init__(self, value):\n",
        "        self.value = value\n",
        "\n",
        "    def __str__(self):\n",
        "        return f\"MyClass({self.value})\"\n",
        "\n",
        "obj = MyClass(10)\n",
        "with open('object.pkl', 'wb') as f:\n",
        "    pickle.dump(obj, f)\n",
        "\n",
        "with open('object.pkl', 'rb') as f:\n",
        "    loaded_obj = pickle.load(f)\n",
        "\n",
        "print(loaded_obj)"
      ],
      "metadata": {
        "colab": {
          "base_uri": "https://localhost:8080/"
        },
        "id": "lYW4glXep-Qe",
        "outputId": "02c3aede-bc35-484c-fa3a-bd423b57c37a"
      },
      "execution_count": null,
      "outputs": [
        {
          "output_type": "stream",
          "name": "stdout",
          "text": [
            "MyClass(10)\n"
          ]
        }
      ]
    },
    {
      "cell_type": "code",
      "source": [
        "#list of objects\n",
        "class Student:\n",
        "    def __init__(self, name, age, marks):\n",
        "        self.name = name\n",
        "        self.age = age\n",
        "        self.marks = marks\n",
        "\n",
        "    def display(self):\n",
        "        print(f\"Name: {self.name}, Age: {self.age}, Marks: {self.marks}\")\n",
        "\n",
        "students = [Student('Alice', 20, 90), Student('Bob', 22, 85), Student('Charlie', 21, 88)]\n",
        "for student in students:\n",
        "    student.display()"
      ],
      "metadata": {
        "colab": {
          "base_uri": "https://localhost:8080/"
        },
        "id": "5g-yqs9eqGpd",
        "outputId": "cf7e8672-3b88-4449-c2d1-6991b77be81c"
      },
      "execution_count": null,
      "outputs": [
        {
          "output_type": "stream",
          "name": "stdout",
          "text": [
            "Name: Alice, Age: 20, Marks: 90\n",
            "Name: Bob, Age: 22, Marks: 85\n",
            "Name: Charlie, Age: 21, Marks: 88\n"
          ]
        }
      ]
    },
    {
      "cell_type": "code",
      "source": [
        "#oop based calculator\n",
        "class Calculator:\n",
        "    def add(self, a, b):\n",
        "        return a + b\n",
        "\n",
        "    def subtract(self, a, b):\n",
        "        return a - b\n",
        "\n",
        "    def multiply(self, a, b):\n",
        "        return a * b\n",
        "\n",
        "    def divide(self, a, b):\n",
        "        if b != 0:\n",
        "            return a / b\n",
        "        else:\n",
        "            return \"Cannot divide by zero\"\n",
        "\n",
        "calc = Calculator()\n",
        "print(calc.add(10, 5))\n",
        "print(calc.subtract(10, 5))\n",
        "print(calc.multiply(10, 5))\n",
        "print(calc.divide(10, 5))"
      ],
      "metadata": {
        "colab": {
          "base_uri": "https://localhost:8080/"
        },
        "id": "rXvJWx2iqLq5",
        "outputId": "50957509-3eea-46b8-ff70-66c49fad9ce5"
      },
      "execution_count": null,
      "outputs": [
        {
          "output_type": "stream",
          "name": "stdout",
          "text": [
            "15\n",
            "5\n",
            "50\n",
            "2.0\n"
          ]
        }
      ]
    },
    {
      "cell_type": "code",
      "source": [
        "#real world oop example\n",
        "class Student:\n",
        "    def __init__(self, name, age, marks):\n",
        "        self.name = name\n",
        "        self.age = age\n",
        "        self.marks = marks\n",
        "\n",
        "    def calculate_grade(self):\n",
        "        if self.marks >= 90:\n",
        "            return 'A'\n",
        "        elif self.marks >= 70:\n",
        "            return 'B'\n",
        "        elif self.marks >= 50:\n",
        "            return 'C'\n",
        "        else:\n",
        "            return 'F'\n",
        "\n",
        "student = Student('Alice', 20, 85)\n",
        "print(student.calculate_grade())"
      ],
      "metadata": {
        "colab": {
          "base_uri": "https://localhost:8080/"
        },
        "id": "Aw0giOLAqR9K",
        "outputId": "25ca4bed-59dd-47a2-b891-8020c011fb13"
      },
      "execution_count": null,
      "outputs": [
        {
          "output_type": "stream",
          "name": "stdout",
          "text": [
            "B\n"
          ]
        }
      ]
    }
  ]
}