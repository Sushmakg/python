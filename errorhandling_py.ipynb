{
  "nbformat": 4,
  "nbformat_minor": 0,
  "metadata": {
    "colab": {
      "provenance": []
    },
    "kernelspec": {
      "name": "python3",
      "display_name": "Python 3"
    },
    "language_info": {
      "name": "python"
    }
  },
  "cells": [
    {
      "cell_type": "code",
      "source": [
        "try:\n",
        "  num =int(input(\"enter a number\"))\n",
        "  print(10/num)\n",
        "except ZeroDivisionError:\n",
        "    print(\"do not give zero as input\")"
      ],
      "metadata": {
        "colab": {
          "base_uri": "https://localhost:8080/"
        },
        "id": "J_kgNd1_Xty-",
        "outputId": "cfb743b2-262c-4e3b-9d0e-3935ab60b9e7"
      },
      "execution_count": 40,
      "outputs": [
        {
          "output_type": "stream",
          "name": "stdout",
          "text": [
            "enter a number0\n",
            "do not give zero as input\n"
          ]
        }
      ]
    },
    {
      "cell_type": "code",
      "source": [
        "try:\n",
        "  num =int(input(\"enter a number\"))\n",
        "  print(10/num)\n",
        "except ZeroDivisionError:\n",
        "    print(\"do not give zero as input\")\n",
        "finally:\n",
        "    print(\"finally block\")"
      ],
      "metadata": {
        "colab": {
          "base_uri": "https://localhost:8080/"
        },
        "id": "dDJDy9c_aM-q",
        "outputId": "37217d90-ff4b-4228-d8fe-692c70ca3884"
      },
      "execution_count": 50,
      "outputs": [
        {
          "output_type": "stream",
          "name": "stdout",
          "text": [
            "enter a number0\n",
            "do not give zero as input\n",
            "finally block\n"
          ]
        }
      ]
    },
    {
      "cell_type": "code",
      "source": [
        "def checkage(age):\n",
        "  if age < 18:\n",
        "    raise ValueError(\"age should be 18 or older\")\n",
        "  return true\n",
        "try:\n",
        "  checkage(15)\n",
        "except ValueError:\n",
        "    print(\"invalid age\")"
      ],
      "metadata": {
        "colab": {
          "base_uri": "https://localhost:8080/"
        },
        "id": "YkcnADSdaUWV",
        "outputId": "4013c5da-3e87-4396-9c93-f7034102ea7e"
      },
      "execution_count": 58,
      "outputs": [
        {
          "output_type": "stream",
          "name": "stdout",
          "text": [
            "invalid age\n"
          ]
        }
      ]
    }
  ]
}