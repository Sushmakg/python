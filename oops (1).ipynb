{
  "nbformat": 4,
  "nbformat_minor": 0,
  "metadata": {
    "colab": {
      "provenance": []
    },
    "kernelspec": {
      "name": "python3",
      "display_name": "Python 3"
    },
    "language_info": {
      "name": "python"
    }
  },
  "cells": [
    {
      "cell_type": "code",
      "execution_count": null,
      "metadata": {
        "colab": {
          "base_uri": "https://localhost:8080/"
        },
        "id": "cZHSwyKHV5NW",
        "outputId": "6557fa7d-6d53-4011-f740-dd56d2cbcf6e"
      },
      "outputs": [
        {
          "output_type": "stream",
          "name": "stdout",
          "text": [
            "Hello, my name is virat and I am 36 years old.\n"
          ]
        }
      ],
      "source": [
        "class Person:\n",
        "  def __init__(self, name, age):\n",
        "    self.name = name\n",
        "    self.age = age\n",
        "  def greet(self):\n",
        "    print(f\"Hello, my name is {self.name} and I am {self.age} years old.\")\n",
        "person1 = Person(\"virat\", 36)\n",
        "person1.greet()"
      ]
    },
    {
      "cell_type": "code",
      "source": [
        "# without using constructor\n",
        "class Person:\n",
        "    def greet(self):\n",
        "        print(f\"Hello, my name is {self.name} and I am {self.age} years old.\")\n",
        "person1 = Person()\n",
        "person1.name = \"Virat\"\n",
        "person1.age = 36\n",
        "person1.greet()\n"
      ],
      "metadata": {
        "colab": {
          "base_uri": "https://localhost:8080/"
        },
        "id": "vEteIdxaz6Ph",
        "outputId": "b1f0b4d9-3516-4a23-a05d-7e8e821a6a89"
      },
      "execution_count": null,
      "outputs": [
        {
          "output_type": "stream",
          "name": "stdout",
          "text": [
            "Hello, my name is Virat and I am 36 years old.\n"
          ]
        }
      ]
    },
    {
      "cell_type": "code",
      "source": [
        "class circle:\n",
        "  def __init__(self,radius):\n",
        "    self.radius = radius\n",
        "  def area(self):\n",
        "      return 3.14*self.radius*self.radius\n",
        "circle1=circle(4)\n",
        "circle1.area()\n"
      ],
      "metadata": {
        "colab": {
          "base_uri": "https://localhost:8080/"
        },
        "id": "WbuY9FyZ5hvT",
        "outputId": "2361f7fd-9a28-4dad-c574-1bb1c0a97556"
      },
      "execution_count": null,
      "outputs": [
        {
          "output_type": "execute_result",
          "data": {
            "text/plain": [
              "50.24"
            ]
          },
          "metadata": {},
          "execution_count": 12
        }
      ]
    },
    {
      "cell_type": "code",
      "source": [
        "#without constructor\n",
        "class circle:\n",
        "  def area(self):\n",
        "    return 3.14*self.radius**2\n",
        "circle1=circle()\n",
        "circle1.radius=5\n",
        "circle1.area()"
      ],
      "metadata": {
        "colab": {
          "base_uri": "https://localhost:8080/"
        },
        "id": "vwZ2L8Sn8cEd",
        "outputId": "66893b17-b3cf-4d48-c27b-2a3581262b9d"
      },
      "execution_count": null,
      "outputs": [
        {
          "output_type": "execute_result",
          "data": {
            "text/plain": [
              "78.5"
            ]
          },
          "metadata": {},
          "execution_count": 14
        }
      ]
    },
    {
      "cell_type": "markdown",
      "source": [
        "ENCAPSULATUION"
      ],
      "metadata": {
        "id": "BQIzgZMADZ_6"
      }
    },
    {
      "cell_type": "code",
      "source": [
        "class something:\n",
        "  def __init__(self):\n",
        "    self.public = \"ok\"\n",
        "    self.__private = \"not ok\"\n",
        "  def access(self):\n",
        "    print(self.__private)\n",
        "something1 = something()\n",
        "print(something1.public)\n",
        "something1.access()"
      ],
      "metadata": {
        "colab": {
          "base_uri": "https://localhost:8080/"
        },
        "id": "a4NrsZGMDZBi",
        "outputId": "0276ec0f-bcfa-41a6-d163-43d967d70a61"
      },
      "execution_count": null,
      "outputs": [
        {
          "output_type": "stream",
          "name": "stdout",
          "text": [
            "ok\n",
            "not ok\n"
          ]
        }
      ]
    },
    {
      "cell_type": "markdown",
      "source": [
        "INHERITANCE"
      ],
      "metadata": {
        "id": "87i-PmbPNmIm"
      }
    },
    {
      "cell_type": "code",
      "source": [
        "#single inheritance\n",
        "class virat:\n",
        "  def say(self):\n",
        "    print(\"i'm virat kohli\")\n",
        "class rahul(virat):\n",
        "  def say(self):\n",
        "    print(\"i'm rahul dravid\")\n",
        "virat1 = virat()\n",
        "virat1.say()\n"
      ],
      "metadata": {
        "colab": {
          "base_uri": "https://localhost:8080/"
        },
        "id": "1HsthXwMDY-1",
        "outputId": "c944c374-a6d2-4ad1-c1ac-93977a5ca0d6"
      },
      "execution_count": null,
      "outputs": [
        {
          "output_type": "stream",
          "name": "stdout",
          "text": [
            "i'm virat kohli\n"
          ]
        }
      ]
    },
    {
      "cell_type": "code",
      "source": [
        "#multiple inheritance\n",
        "class virat:\n",
        "  def say(self):\n",
        "    print(\"i'm virat kohli\")\n",
        "class rahul:\n",
        "  def say1(self):\n",
        "    print(\"i'm rahul dravid\")\n",
        "class hardik(virat,rahul):\n",
        "  pass\n",
        "fan = hardik()\n",
        "fan.say()\n",
        "fan.say1()\n"
      ],
      "metadata": {
        "colab": {
          "base_uri": "https://localhost:8080/"
        },
        "id": "oo4f9iXETKV5",
        "outputId": "a0ec2d4a-990e-4117-b603-3df0462e5c92"
      },
      "execution_count": null,
      "outputs": [
        {
          "output_type": "stream",
          "name": "stdout",
          "text": [
            "i'm virat kohli\n",
            "i'm rahul dravid\n"
          ]
        }
      ]
    },
    {
      "cell_type": "code",
      "source": [
        "#creating a class for bank account\n",
        "class bankaccount:\n",
        "  def __init__(self,accountnumber,balance=0):\n",
        "    self.accountnumber = accountnumber\n",
        "    self.balance = balance\n",
        "  def deposit(self,amount):\n",
        "    self.balance+=amount\n",
        "    print(f\"your balance is {self.balance}\")\n",
        "  def withdraw(self, amount):\n",
        "    if amount<=self.balance:\n",
        "      print(f\"{self.balance}\")\n",
        "    else:\n",
        "      print(\"insufficient balance\")\n",
        "obj1 = bankaccount(1234)\n",
        "obj1.deposit(1000)\n",
        "obj1.withdraw(500)\n",
        "\n",
        "\n"
      ],
      "metadata": {
        "colab": {
          "base_uri": "https://localhost:8080/"
        },
        "id": "TePiLLCoWfZX",
        "outputId": "e2d7d06a-79b8-47a2-a6c6-ca8c77030fb6"
      },
      "execution_count": null,
      "outputs": [
        {
          "output_type": "stream",
          "name": "stdout",
          "text": [
            "your balance is 1000\n",
            "1000\n"
          ]
        }
      ]
    },
    {
      "cell_type": "code",
      "source": [
        "#pass or fail\n",
        "class vtu:\n",
        "  def __init__(self,name,rollno,marks):\n",
        "    self.name = name\n",
        "    self.rollno = rollno\n",
        "    self.marks = marks\n",
        "  def passed(self,passingmarks):\n",
        "     if passingmarks>=35:\n",
        "      print(\"pass\")\n",
        "     else:\n",
        "      print(\"fail\")\n",
        "shravan = vtu(\"shravan\",29,34)\n",
        "shravan.passed(34)\n",
        "\n"
      ],
      "metadata": {
        "colab": {
          "base_uri": "https://localhost:8080/"
        },
        "id": "QFq_9S5Id1S4",
        "outputId": "18fc895e-2820-4aca-9c3c-70b09476e5da"
      },
      "execution_count": null,
      "outputs": [
        {
          "output_type": "stream",
          "name": "stdout",
          "text": [
            "fail\n"
          ]
        }
      ]
    },
    {
      "cell_type": "code",
      "source": [
        "class vehicleclass:\n",
        "  def name(self,name):\n",
        "    self.name = name\n",
        "    print(f\"{self.name}\")\n",
        "class vehiclecolor:\n",
        "  def color(self,color):\n",
        "    self.color = color\n",
        "    print(f\"{self.color}\")\n",
        "class car(vehicleclass,vehiclecolor):\n",
        "  pass\n",
        "car1 = car()\n",
        "car1.name(\"audi\")\n",
        "car1.color(\"black\")\n",
        "\n"
      ],
      "metadata": {
        "colab": {
          "base_uri": "https://localhost:8080/"
        },
        "id": "x4OlgnKIgA4X",
        "outputId": "3503b491-14c6-4cc1-9fbe-6d3dc30892d2"
      },
      "execution_count": null,
      "outputs": [
        {
          "output_type": "stream",
          "name": "stdout",
          "text": [
            "audi\n",
            "black\n"
          ]
        }
      ]
    }
  ]
}