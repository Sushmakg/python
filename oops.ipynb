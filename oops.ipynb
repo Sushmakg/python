{
  "nbformat": 4,
  "nbformat_minor": 0,
  "metadata": {
    "colab": {
      "provenance": []
    },
    "kernelspec": {
      "name": "python3",
      "display_name": "Python 3"
    },
    "language_info": {
      "name": "python"
    }
  },
  "cells": [
    {
      "cell_type": "code",
      "execution_count": 1,
      "metadata": {
        "colab": {
          "base_uri": "https://localhost:8080/"
        },
        "id": "cZHSwyKHV5NW",
        "outputId": "6557fa7d-6d53-4011-f740-dd56d2cbcf6e"
      },
      "outputs": [
        {
          "output_type": "stream",
          "name": "stdout",
          "text": [
            "Hello, my name is virat and I am 36 years old.\n"
          ]
        }
      ],
      "source": [
        "class Person:\n",
        "  def __init__(self, name, age):\n",
        "    self.name = name\n",
        "    self.age = age\n",
        "  def greet(self):\n",
        "    print(f\"Hello, my name is {self.name} and I am {self.age} years old.\")\n",
        "person1 = Person(\"virat\", 36)\n",
        "person1.greet()"
      ]
    },
    {
      "cell_type": "code",
      "source": [
        "# without using sonstructor\n",
        "class Person:\n",
        "    def greet(self):\n",
        "        print(f\"Hello, my name is {self.name} and I am {self.age} years old.\")\n",
        "person1 = Person()\n",
        "person1.name = \"Virat\"\n",
        "person1.age = 36\n",
        "person1.greet()\n"
      ],
      "metadata": {
        "colab": {
          "base_uri": "https://localhost:8080/"
        },
        "id": "vEteIdxaz6Ph",
        "outputId": "b1f0b4d9-3516-4a23-a05d-7e8e821a6a89"
      },
      "execution_count": 3,
      "outputs": [
        {
          "output_type": "stream",
          "name": "stdout",
          "text": [
            "Hello, my name is Virat and I am 36 years old.\n"
          ]
        }
      ]
    }
  ]
}