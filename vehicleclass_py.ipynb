{
  "nbformat": 4,
  "nbformat_minor": 0,
  "metadata": {
    "colab": {
      "provenance": []
    },
    "kernelspec": {
      "name": "python3",
      "display_name": "Python 3"
    },
    "language_info": {
      "name": "python"
    }
  },
  "cells": [
    {
      "cell_type": "code",
      "source": [
        "class vehicleclass:\n",
        "  def name(self,name):\n",
        "    self.name = name\n",
        "    print(f\"{self.name}\")\n",
        "class vehiclecolor:\n",
        "  def color(self,color):\n",
        "    self.color = color\n",
        "    print(f\"{self.color}\")\n",
        "class car(vehicleclass,vehiclecolor):\n",
        "  pass\n",
        "car1 = car()\n",
        "car1.name(\"audi\")\n",
        "car1.color(\"black\")\n",
        "\n"
      ],
      "metadata": {
        "colab": {
          "base_uri": "https://localhost:8080/"
        },
        "id": "x4OlgnKIgA4X",
        "outputId": "34c04bdc-ac87-4521-fadd-1f20e48b2bb2"
      },
      "execution_count": 3,
      "outputs": [
        {
          "output_type": "stream",
          "name": "stdout",
          "text": [
            "audi\n",
            "black\n"
          ]
        }
      ]
    }
  ]
}